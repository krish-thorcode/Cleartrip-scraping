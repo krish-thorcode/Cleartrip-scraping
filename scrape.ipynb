{
 "cells": [
  {
   "cell_type": "code",
   "execution_count": 1,
   "metadata": {},
   "outputs": [],
   "source": [
    "from selenium import webdriver\n",
    "from bs4 import BeautifulSoup\n",
    "import requests\n",
    "import time"
   ]
  },
  {
   "cell_type": "code",
   "execution_count": 218,
   "metadata": {},
   "outputs": [],
   "source": [
    "from selenium.webdriver.common.action_chains import ActionChains\n"
   ]
  },
  {
   "cell_type": "code",
   "execution_count": 2,
   "metadata": {},
   "outputs": [],
   "source": [
    "base_url = 'https://me.cleartrip.com'"
   ]
  },
  {
   "cell_type": "code",
   "execution_count": 3,
   "metadata": {},
   "outputs": [],
   "source": [
    "def get_info(hotel_name):\n",
    "    url = hotel_name.find_element_by_tag_name('a').get_attribute('href')\n",
    "    \n",
    "    browser.get(url)"
   ]
  },
  {
   "cell_type": "code",
   "execution_count": 4,
   "metadata": {},
   "outputs": [],
   "source": [
    "browser = webdriver.Chrome('./chromedriver')"
   ]
  },
  {
   "cell_type": "code",
   "execution_count": 5,
   "metadata": {},
   "outputs": [],
   "source": [
    "res = requests.get('https://me.cleartrip.com/hotels/united-states/miami/')"
   ]
  },
  {
   "cell_type": "code",
   "execution_count": 6,
   "metadata": {},
   "outputs": [],
   "source": [
    "num_pages = 38"
   ]
  },
  {
   "cell_type": "code",
   "execution_count": 7,
   "metadata": {},
   "outputs": [],
   "source": [
    "soup = BeautifulSoup(res.text, 'lxml')"
   ]
  },
  {
   "cell_type": "code",
   "execution_count": 8,
   "metadata": {},
   "outputs": [],
   "source": [
    "page_num_buttons = soup.select('.pagination a')"
   ]
  },
  {
   "cell_type": "code",
   "execution_count": 9,
   "metadata": {},
   "outputs": [
    {
     "data": {
      "text/plain": [
       "'/hotels/united-states/miami?page=2'"
      ]
     },
     "execution_count": 9,
     "metadata": {},
     "output_type": "execute_result"
    }
   ],
   "source": [
    "page_num_buttons[-1].get('href')"
   ]
  },
  {
   "cell_type": "code",
   "execution_count": 10,
   "metadata": {},
   "outputs": [],
   "source": [
    "page_num_buttons = page_num_buttons[:-1]"
   ]
  },
  {
   "cell_type": "code",
   "execution_count": 11,
   "metadata": {},
   "outputs": [
    {
     "data": {
      "text/plain": [
       "'/hotels/united-states/miami?page=38'"
      ]
     },
     "execution_count": 11,
     "metadata": {},
     "output_type": "execute_result"
    }
   ],
   "source": [
    "page_num_buttons[-1].get('href')"
   ]
  },
  {
   "cell_type": "code",
   "execution_count": 12,
   "metadata": {},
   "outputs": [
    {
     "data": {
      "text/plain": [
       "'https://me.cleartrip.com/hotels/united-states/miami?page=2'"
      ]
     },
     "execution_count": 12,
     "metadata": {},
     "output_type": "execute_result"
    }
   ],
   "source": [
    "base_url + page_num_buttons[0].get('href')"
   ]
  },
  {
   "cell_type": "code",
   "execution_count": 13,
   "metadata": {},
   "outputs": [],
   "source": [
    "page_num_hrefs = [(base_url + button.get('href')) for button in page_num_buttons]"
   ]
  },
  {
   "cell_type": "code",
   "execution_count": 14,
   "metadata": {},
   "outputs": [],
   "source": [
    "# page_num_hrefs"
   ]
  },
  {
   "cell_type": "code",
   "execution_count": 15,
   "metadata": {},
   "outputs": [],
   "source": [
    "# hotels on the first page\n",
    "\n",
    "hotels_a_tag_list = soup.select('.hotels-name a')"
   ]
  },
  {
   "cell_type": "code",
   "execution_count": 16,
   "metadata": {},
   "outputs": [
    {
     "data": {
      "text/plain": [
       "[<a href=\"/hotels/details/192017?c=200419|210419&amp;r=2,0\" rel=\"nofollow\" title=\"Hilton Bentley South Beach, Miami, United States\"><span>Hilton Bentley South Beach</span></a>,\n",
       " <a href=\"/hotels/details/292714?c=200419|210419&amp;r=2,0\" rel=\"nofollow\" title=\"Kimpton EPIC Hotel, Miami, United States\"><span>Kimpton EPIC Hotel</span></a>,\n",
       " <a href=\"/hotels/details/345087?c=200419|210419&amp;r=2,0\" rel=\"nofollow\" title=\"JW Marriott Marquis Miami, Miami, United States\"><span>JW Marriott Marquis Miami</span></a>]"
      ]
     },
     "execution_count": 16,
     "metadata": {},
     "output_type": "execute_result"
    }
   ],
   "source": [
    "hotels_a_tag_list[:3]"
   ]
  },
  {
   "cell_type": "code",
   "execution_count": 17,
   "metadata": {},
   "outputs": [
    {
     "data": {
      "text/plain": [
       "20"
      ]
     },
     "execution_count": 17,
     "metadata": {},
     "output_type": "execute_result"
    }
   ],
   "source": [
    "len(hotels_a_tag_list)"
   ]
  },
  {
   "cell_type": "code",
   "execution_count": 18,
   "metadata": {},
   "outputs": [],
   "source": [
    "hotels_urls = [(base_url + hotel_a_tag.get('href')) for hotel_a_tag in hotels_a_tag_list]"
   ]
  },
  {
   "cell_type": "code",
   "execution_count": 19,
   "metadata": {},
   "outputs": [
    {
     "data": {
      "text/plain": [
       "20"
      ]
     },
     "execution_count": 19,
     "metadata": {},
     "output_type": "execute_result"
    }
   ],
   "source": [
    "len(hotels_urls)"
   ]
  },
  {
   "cell_type": "code",
   "execution_count": 20,
   "metadata": {},
   "outputs": [
    {
     "data": {
      "text/plain": [
       "['https://me.cleartrip.com/hotels/details/192017?c=200419|210419&r=2,0',\n",
       " 'https://me.cleartrip.com/hotels/details/292714?c=200419|210419&r=2,0',\n",
       " 'https://me.cleartrip.com/hotels/details/345087?c=200419|210419&r=2,0']"
      ]
     },
     "execution_count": 20,
     "metadata": {},
     "output_type": "execute_result"
    }
   ],
   "source": [
    "hotels_urls[:3]"
   ]
  },
  {
   "cell_type": "code",
   "execution_count": 21,
   "metadata": {},
   "outputs": [],
   "source": [
    "for page_num_href in page_num_hrefs:\n",
    "    res = requests.get(page_num_href)\n",
    "    res.raise_for_status()\n",
    "    soup = BeautifulSoup(res.text, 'lxml')\n",
    "    hotels_a_tag_list = soup.select('.hotels-name a')\n",
    "    hotels_urls += [(base_url + hotel_a_tag.get('href')) for hotel_a_tag in hotels_a_tag_list]"
   ]
  },
  {
   "cell_type": "code",
   "execution_count": 22,
   "metadata": {},
   "outputs": [
    {
     "data": {
      "text/plain": [
       "755"
      ]
     },
     "execution_count": 22,
     "metadata": {},
     "output_type": "execute_result"
    }
   ],
   "source": [
    "len(hotels_urls)"
   ]
  },
  {
   "cell_type": "code",
   "execution_count": 26,
   "metadata": {},
   "outputs": [
    {
     "data": {
      "text/plain": [
       "['https://me.cleartrip.com/hotels/details/192017?c=200419|210419&r=2,0',\n",
       " 'https://me.cleartrip.com/hotels/details/292714?c=200419|210419&r=2,0',\n",
       " 'https://me.cleartrip.com/hotels/details/345087?c=200419|210419&r=2,0',\n",
       " 'https://me.cleartrip.com/hotels/details/367313?c=200419|210419&r=2,0',\n",
       " 'https://me.cleartrip.com/hotels/details/367317?c=200419|210419&r=2,0',\n",
       " 'https://me.cleartrip.com/hotels/details/367353?c=200419|210419&r=2,0']"
      ]
     },
     "execution_count": 26,
     "metadata": {},
     "output_type": "execute_result"
    }
   ],
   "source": [
    "hotels_urls[:6]"
   ]
  },
  {
   "cell_type": "code",
   "execution_count": null,
   "metadata": {},
   "outputs": [],
   "source": [
    "hotels_info = []"
   ]
  },
  {
   "cell_type": "code",
   "execution_count": null,
   "metadata": {},
   "outputs": [],
   "source": [
    "# scraping hotel names, address, ..."
   ]
  },
  {
   "cell_type": "code",
   "execution_count": 109,
   "metadata": {},
   "outputs": [],
   "source": [
    "soup_check = BeautifulSoup(requests.get(hotels_urls[0]).text, 'lxml')"
   ]
  },
  {
   "cell_type": "code",
   "execution_count": 100,
   "metadata": {},
   "outputs": [
    {
     "data": {
      "text/plain": [
       "'Hilton Bentley South Beach  Miami'"
      ]
     },
     "execution_count": 100,
     "metadata": {},
     "output_type": "execute_result"
    }
   ],
   "source": [
    "soup_check.select('h1')[0].getText().strip()"
   ]
  },
  {
   "cell_type": "code",
   "execution_count": 101,
   "metadata": {},
   "outputs": [
    {
     "data": {
      "text/plain": [
       "'Miami'"
      ]
     },
     "execution_count": 101,
     "metadata": {},
     "output_type": "execute_result"
    }
   ],
   "source": [
    "soup_check.select('h1 small')[0].getText().strip()"
   ]
  },
  {
   "cell_type": "code",
   "execution_count": 227,
   "metadata": {},
   "outputs": [],
   "source": [
    "browser.get(hotels_urls[0])"
   ]
  },
  {
   "cell_type": "code",
   "execution_count": 228,
   "metadata": {},
   "outputs": [],
   "source": [
    "rating_elem = browser.find_element_by_css_selector('li.review span[rel=\"tTooltip\"]')"
   ]
  },
  {
   "cell_type": "code",
   "execution_count": 229,
   "metadata": {},
   "outputs": [],
   "source": [
    "ActionChains(browser).move_to_element(rating_elem).perform()"
   ]
  },
  {
   "cell_type": "code",
   "execution_count": 201,
   "metadata": {},
   "outputs": [
    {
     "data": {
      "text/plain": [
       "'tTooltip'"
      ]
     },
     "execution_count": 201,
     "metadata": {},
     "output_type": "execute_result"
    }
   ],
   "source": [
    "rating_elem.get_attribute('rel')"
   ]
  },
  {
   "cell_type": "code",
   "execution_count": 210,
   "metadata": {},
   "outputs": [
    {
     "data": {
      "text/plain": [
       "'taRating t4'"
      ]
     },
     "execution_count": 210,
     "metadata": {},
     "output_type": "execute_result"
    }
   ],
   "source": [
    "rating_elem.get_attribute('class')"
   ]
  },
  {
   "cell_type": "code",
   "execution_count": 230,
   "metadata": {},
   "outputs": [],
   "source": [
    "orig_title = rating_elem.get_attribute('original-title')"
   ]
  },
  {
   "cell_type": "code",
   "execution_count": 231,
   "metadata": {},
   "outputs": [
    {
     "data": {
      "text/plain": [
       "'TripAdvisor traveller rating, 4/5'"
      ]
     },
     "execution_count": 231,
     "metadata": {},
     "output_type": "execute_result"
    }
   ],
   "source": [
    "orig_title"
   ]
  },
  {
   "cell_type": "code",
   "execution_count": 124,
   "metadata": {},
   "outputs": [],
   "source": [
    "import re"
   ]
  },
  {
   "cell_type": "code",
   "execution_count": 131,
   "metadata": {},
   "outputs": [
    {
     "data": {
      "text/plain": [
       "['4.5']"
      ]
     },
     "execution_count": 131,
     "metadata": {},
     "output_type": "execute_result"
    }
   ],
   "source": [
    "re.findall('TripAdvisor traveller rating, (.+)/5', orig_title_2)"
   ]
  },
  {
   "cell_type": "code",
   "execution_count": 233,
   "metadata": {},
   "outputs": [],
   "source": [
    "num_reviews = browser.find_element_by_class_name('reviewLink')"
   ]
  },
  {
   "cell_type": "code",
   "execution_count": 237,
   "metadata": {},
   "outputs": [
    {
     "data": {
      "text/plain": [
       "'1103 reviews'"
      ]
     },
     "execution_count": 237,
     "metadata": {},
     "output_type": "execute_result"
    }
   ],
   "source": [
    "num_reviews.text"
   ]
  },
  {
   "cell_type": "code",
   "execution_count": 239,
   "metadata": {},
   "outputs": [
    {
     "data": {
      "text/plain": [
       "['1103']"
      ]
     },
     "execution_count": 239,
     "metadata": {},
     "output_type": "execute_result"
    }
   ],
   "source": [
    "re.findall('([0-9]+) reviews', num_reviews.text)"
   ]
  },
  {
   "cell_type": "code",
   "execution_count": 244,
   "metadata": {},
   "outputs": [],
   "source": [
    "price_elem = browser.find_element_by_css_selector('#b-min-price')"
   ]
  },
  {
   "cell_type": "code",
   "execution_count": 245,
   "metadata": {},
   "outputs": [
    {
     "data": {
      "text/plain": [
       "'$ 292'"
      ]
     },
     "execution_count": 245,
     "metadata": {},
     "output_type": "execute_result"
    }
   ],
   "source": [
    "price_elem.text"
   ]
  },
  {
   "cell_type": "code",
   "execution_count": 311,
   "metadata": {},
   "outputs": [],
   "source": [
    "amenities_cat = browser.find_elements_by_css_selector('.amenitiesCategory div')[0]"
   ]
  },
  {
   "cell_type": "code",
   "execution_count": 315,
   "metadata": {},
   "outputs": [
    {
     "data": {
      "text/plain": [
       "'Deluxe Class Modern Hotel. Beachfront All Suite property on Ocean Drive, in the world-class environment of South Beach in the exclusive neighborhood of \"Sofi\" (South of Fifth Street). Minutes from Coral Gables, Coconut Grove and Miami\\'s international business district on Brickell Avenue. Miami International Airport is 15 minutes away.\\n\\nOversized junior suites (350 sq. ft.) furnished with 1 King Bed, custom designed with European furnishings, with floor-to-ceiling windows revealing views of the city or ocean, and are equipped with kitchenette, luxurious oversized marble bathroom and state of the art amenities.\\n\\nUpscale Italian restaurant on site and numerous dining options within the surrounding area offering a variety of tastes.\\n\\nEuropean-style boutique hotel in two 10-story towers.\\n\\nIntimate and elegantly decorated lobby.\\n\\nOn the southern tip of Ocean Drive, this hotel takes center stage in South Beach\\'s hottest new landscape. An oasis of serenity and elegance in a very exclusive beach setting. (03/08 LM)'"
      ]
     },
     "execution_count": 315,
     "metadata": {},
     "output_type": "execute_result"
    }
   ],
   "source": [
    "amenities_cat.text.strip()"
   ]
  },
  {
   "cell_type": "code",
   "execution_count": 303,
   "metadata": {},
   "outputs": [],
   "source": [
    "info = amenities_cat.find_elements_by_css_selector('p')[1:-1]"
   ]
  },
  {
   "cell_type": "code",
   "execution_count": 297,
   "metadata": {},
   "outputs": [
    {
     "data": {
      "text/plain": [
       "\"Property Location: With a stay at JW Marriott Marquis Miami, you'll be centrally located in Miami, steps from James L. Knight Center and 4 minutes by foot from Downtown Miami Shopping District. This 5-star hotel is 0.3 mi (0.6 km) from Bayfront Park and 0.5 mi (0.8 km) from Brickell City Centre.\""
      ]
     },
     "execution_count": 297,
     "metadata": {},
     "output_type": "execute_result"
    }
   ],
   "source": [
    "info[0].text"
   ]
  },
  {
   "cell_type": "code",
   "execution_count": 304,
   "metadata": {},
   "outputs": [
    {
     "data": {
      "text/plain": [
       "'Business, Other Amenities: Featured amenities include a business center, limo/town car service, and express check-out. Planning an event in Miami? This hotel has facilities measuring 42000 square feet (3902 square meters), including conference space.'"
      ]
     },
     "execution_count": 304,
     "metadata": {},
     "output_type": "execute_result"
    }
   ],
   "source": [
    "info[-1].text"
   ]
  },
  {
   "cell_type": "code",
   "execution_count": 307,
   "metadata": {},
   "outputs": [],
   "source": [
    "heading = info[0].find_element_by_css_selector('b').text"
   ]
  },
  {
   "cell_type": "code",
   "execution_count": 309,
   "metadata": {},
   "outputs": [
    {
     "data": {
      "text/plain": [
       "\"With a stay at JW Marriott Marquis Miami, you'll be centrally located in Miami, steps from James L. Knight Center and 4 minutes by foot from Downtown Miami Shopping District. This 5-star hotel is 0.3 mi (0.6 km) from Bayfront Park and 0.5 mi (0.8 km) from Brickell City Centre.\""
      ]
     },
     "execution_count": 309,
     "metadata": {},
     "output_type": "execute_result"
    }
   ],
   "source": [
    "info[0].text.replace(heading, '').strip()"
   ]
  },
  {
   "cell_type": "code",
   "execution_count": 305,
   "metadata": {},
   "outputs": [
    {
     "data": {
      "text/plain": [
       "5"
      ]
     },
     "execution_count": 305,
     "metadata": {},
     "output_type": "execute_result"
    }
   ],
   "source": [
    "len(info)"
   ]
  },
  {
   "cell_type": "code",
   "execution_count": 314,
   "metadata": {},
   "outputs": [],
   "source": [
    "def get_dynamic_info(hotel_url):\n",
    "    browser.get(hotel_url)\n",
    "    \n",
    "    try:\n",
    "        rating_elem = browser.find_element_by_css_selector('li.review span[rel=\"tTooltip\"]')\n",
    "        ActionChains(browser).move_to_element(rating_elem).perform()\n",
    "        orig_title = rating_elem.get_attribute('original-title')\n",
    "        rating = int(re.findall('TripAdvisor traveller rating, (.+)/5', orig_title)[0])\n",
    "    except:\n",
    "        rating = 'NA'\n",
    "\n",
    "    try:\n",
    "        num_reviews_elem = browser.find_element_by_class_name('reviewLink')\n",
    "        num_reviews = int(re.findall('([0-9]+) reviews', num_reviews_elem.text)[0])\n",
    "    except:\n",
    "        num_reviews = 'NA'\n",
    "    \n",
    "    try:\n",
    "        price_elem = price_elem = browser.find_element_by_css_selector('#b-min-price')\n",
    "        price = price_elem.text\n",
    "    except:\n",
    "        price = 'NA'\n",
    "        \n",
    "    hotel_info = {}\n",
    "    more_info = browser.find_element_by_class_name('shwMoreDesc')\n",
    "    more_info.click()\n",
    "    dynamic_info_area = browser.find_elements_by_css_selector('.amenitiesCategory div')[0]\n",
    "    \n",
    "    try: \n",
    "        # for pages with property location, rooms, etc. headings\n",
    "        info = amenities_cat.find_elements_by_css_selector('p')[1:-1]\n",
    "        \n",
    "        # exception occurs if these headings not found\n",
    "        property_location_heading = info[0].find_element_by_css_selector('b')\n",
    "        rooms_heading = info[1].find_element_by_css_selector('b')\n",
    "        amenities_heading = info[2].find_element_by_css_selector('b')\n",
    "        dining_heading = info[3].find_element_by_css_selector('b')\n",
    "        business_heading = info[4].find_element_by_css_selector('b')\n",
    "        \n",
    "        property_location = info[0].text.replace(property_location_heading, '').strip()\n",
    "        rooms = info[1].text.replace(property_location_heading, '').strip()\n",
    "        amenities = info[2].text.replace(property_location_heading, '').strip()\n",
    "        dining = info[3].text.replace(property_location_heading, '').strip()\n",
    "        business_other_amenities = info[4].text.replace(property_location_heading, '').strip()\n",
    "        \n",
    "        more_info = {\n",
    "            'property_location': property_location,\n",
    "            'rooms': rooms,\n",
    "            'amenities': amenities,\n",
    "            'dining': dining,\n",
    "            'business_other_amenities': busines_other_amenities\n",
    "        }\n",
    "        \n",
    "    except:\n",
    "        # when headings are not present\n",
    "        more_info = dynamic_info_area.text.strip()\n",
    "    \n",
    "    dynamic_info = {\n",
    "        'rating': rating,\n",
    "        'num_reviews': num_reviews,\n",
    "        'price': price,\n",
    "        'hotel_info': more_info\n",
    "        \n",
    "    }\n",
    "    \n",
    "    return dynamic_info"
   ]
  },
  {
   "cell_type": "code",
   "execution_count": null,
   "metadata": {},
   "outputs": [],
   "source": [
    "for hotel_url in hotels_urls:\n",
    "    res = requests.get(hotel_url)\n",
    "    soup = BeautifulSoup(res.text, 'lxml')\n",
    "    \n",
    "    dynamic_info = get_dynamic_info(hotel_url)\n",
    "    \n",
    "    hotel_info = {}\n",
    "    \n",
    "    hotel_name = soup.select('h1')[0].getText().strip()\n",
    "    hotel_address = soup.select('h1 small')[0].getText().strip()\n",
    "    hotel_rating = rating\n",
    "    \n"
   ]
  },
  {
   "cell_type": "code",
   "execution_count": null,
   "metadata": {},
   "outputs": [],
   "source": [
    "# soup = BeautifulSoup(driver.page_source, 'html.parser')"
   ]
  },
  {
   "cell_type": "code",
   "execution_count": null,
   "metadata": {},
   "outputs": [],
   "source": [
    "# type(soup)"
   ]
  },
  {
   "cell_type": "code",
   "execution_count": null,
   "metadata": {},
   "outputs": [],
   "source": [
    "# page_link_elems = driver.find_element_by_class_name('pagination').find_elements_by_tag_name('a')"
   ]
  },
  {
   "cell_type": "code",
   "execution_count": null,
   "metadata": {},
   "outputs": [],
   "source": [
    "# page_hrefs = [x.get_attribute('href') for x in page_links]"
   ]
  },
  {
   "cell_type": "markdown",
   "metadata": {},
   "source": [
    "#### hotels in the first page, ie, on https://me.cleartrip.com/hotels/united-states/miami/"
   ]
  },
  {
   "cell_type": "code",
   "execution_count": null,
   "metadata": {},
   "outputs": [],
   "source": [
    "# hotel_name_elems = driver.find_elements_by_class_name('hotels-name')"
   ]
  },
  {
   "cell_type": "code",
   "execution_count": null,
   "metadata": {},
   "outputs": [],
   "source": [
    "\n",
    "    "
   ]
  },
  {
   "cell_type": "code",
   "execution_count": null,
   "metadata": {},
   "outputs": [],
   "source": [
    "# hotel_"
   ]
  }
 ],
 "metadata": {
  "kernelspec": {
   "display_name": "Python 3",
   "language": "python",
   "name": "python3"
  },
  "language_info": {
   "codemirror_mode": {
    "name": "ipython",
    "version": 3
   },
   "file_extension": ".py",
   "mimetype": "text/x-python",
   "name": "python",
   "nbconvert_exporter": "python",
   "pygments_lexer": "ipython3",
   "version": "3.6.5"
  },
  "varInspector": {
   "cols": {
    "lenName": 16,
    "lenType": 16,
    "lenVar": 40
   },
   "kernels_config": {
    "python": {
     "delete_cmd_postfix": "",
     "delete_cmd_prefix": "del ",
     "library": "var_list.py",
     "varRefreshCmd": "print(var_dic_list())"
    },
    "r": {
     "delete_cmd_postfix": ") ",
     "delete_cmd_prefix": "rm(",
     "library": "var_list.r",
     "varRefreshCmd": "cat(var_dic_list()) "
    }
   },
   "types_to_exclude": [
    "module",
    "function",
    "builtin_function_or_method",
    "instance",
    "_Feature"
   ],
   "window_display": false
  }
 },
 "nbformat": 4,
 "nbformat_minor": 2
}
