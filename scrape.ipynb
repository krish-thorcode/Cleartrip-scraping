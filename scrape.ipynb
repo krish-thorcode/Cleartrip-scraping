{
 "cells": [
  {
   "cell_type": "code",
   "execution_count": 1,
   "metadata": {},
   "outputs": [],
   "source": [
    "from selenium import webdriver\n",
    "from selenium.webdriver.common.action_chains import ActionChains\n",
    "from selenium.webdriver.support import expected_conditions as EC\n",
    "from selenium.webdriver.common.by import By\n",
    "from selenium.webdriver.support.wait import WebDriverWait\n",
    "from bs4 import BeautifulSoup\n",
    "import requests\n",
    "import time\n",
    "import re"
   ]
  },
  {
   "cell_type": "code",
   "execution_count": 2,
   "metadata": {},
   "outputs": [],
   "source": [
    "import traceback"
   ]
  },
  {
   "cell_type": "code",
   "execution_count": 3,
   "metadata": {},
   "outputs": [],
   "source": [
    "base_url = 'https://me.cleartrip.com'"
   ]
  },
  {
   "cell_type": "code",
   "execution_count": 43,
   "metadata": {},
   "outputs": [],
   "source": [
    "browser = webdriver.Chrome('./chromedriver')\n",
    "wait_obj = WebDriverWait(browser, 20)"
   ]
  },
  {
   "cell_type": "code",
   "execution_count": 7,
   "metadata": {},
   "outputs": [],
   "source": [
    "res = requests.get('https://me.cleartrip.com/hotels/united-states/miami/')"
   ]
  },
  {
   "cell_type": "code",
   "execution_count": 8,
   "metadata": {},
   "outputs": [],
   "source": [
    "num_pages = 38"
   ]
  },
  {
   "cell_type": "code",
   "execution_count": 9,
   "metadata": {},
   "outputs": [],
   "source": [
    "soup = BeautifulSoup(res.text, 'lxml')"
   ]
  },
  {
   "cell_type": "code",
   "execution_count": 10,
   "metadata": {},
   "outputs": [],
   "source": [
    "page_num_buttons = soup.select('.pagination a')"
   ]
  },
  {
   "cell_type": "code",
   "execution_count": 11,
   "metadata": {},
   "outputs": [
    {
     "data": {
      "text/plain": [
       "'/hotels/united-states/miami?page=2'"
      ]
     },
     "execution_count": 11,
     "metadata": {},
     "output_type": "execute_result"
    }
   ],
   "source": [
    "page_num_buttons[-1].get('href')"
   ]
  },
  {
   "cell_type": "code",
   "execution_count": 12,
   "metadata": {},
   "outputs": [],
   "source": [
    "page_num_buttons = page_num_buttons[:-1]"
   ]
  },
  {
   "cell_type": "code",
   "execution_count": 13,
   "metadata": {},
   "outputs": [
    {
     "data": {
      "text/plain": [
       "'/hotels/united-states/miami?page=38'"
      ]
     },
     "execution_count": 13,
     "metadata": {},
     "output_type": "execute_result"
    }
   ],
   "source": [
    "page_num_buttons[-1].get('href')"
   ]
  },
  {
   "cell_type": "code",
   "execution_count": 14,
   "metadata": {},
   "outputs": [
    {
     "data": {
      "text/plain": [
       "'https://me.cleartrip.com/hotels/united-states/miami?page=2'"
      ]
     },
     "execution_count": 14,
     "metadata": {},
     "output_type": "execute_result"
    }
   ],
   "source": [
    "base_url + page_num_buttons[0].get('href')"
   ]
  },
  {
   "cell_type": "code",
   "execution_count": 15,
   "metadata": {},
   "outputs": [],
   "source": [
    "page_num_hrefs = [(base_url + button.get('href')) for button in page_num_buttons]"
   ]
  },
  {
   "cell_type": "code",
   "execution_count": 16,
   "metadata": {},
   "outputs": [],
   "source": [
    "# page_num_hrefs"
   ]
  },
  {
   "cell_type": "code",
   "execution_count": 17,
   "metadata": {},
   "outputs": [],
   "source": [
    "# hotels on the first page\n",
    "\n",
    "hotels_a_tag_list = soup.select('.hotels-name a')"
   ]
  },
  {
   "cell_type": "code",
   "execution_count": 18,
   "metadata": {},
   "outputs": [
    {
     "data": {
      "text/plain": [
       "[<a href=\"/hotels/details/192017?c=200419|210419&amp;r=2,0\" rel=\"nofollow\" title=\"Hilton Bentley South Beach, Miami, United States\"><span>Hilton Bentley South Beach</span></a>,\n",
       " <a href=\"/hotels/details/292714?c=200419|210419&amp;r=2,0\" rel=\"nofollow\" title=\"Kimpton EPIC Hotel, Miami, United States\"><span>Kimpton EPIC Hotel</span></a>,\n",
       " <a href=\"/hotels/details/345087?c=200419|210419&amp;r=2,0\" rel=\"nofollow\" title=\"JW Marriott Marquis Miami, Miami, United States\"><span>JW Marriott Marquis Miami</span></a>]"
      ]
     },
     "execution_count": 18,
     "metadata": {},
     "output_type": "execute_result"
    }
   ],
   "source": [
    "hotels_a_tag_list[:3]"
   ]
  },
  {
   "cell_type": "code",
   "execution_count": 19,
   "metadata": {},
   "outputs": [
    {
     "data": {
      "text/plain": [
       "20"
      ]
     },
     "execution_count": 19,
     "metadata": {},
     "output_type": "execute_result"
    }
   ],
   "source": [
    "len(hotels_a_tag_list)"
   ]
  },
  {
   "cell_type": "code",
   "execution_count": 20,
   "metadata": {},
   "outputs": [],
   "source": [
    "hotels_urls = [(base_url + hotel_a_tag.get('href')) for hotel_a_tag in hotels_a_tag_list]"
   ]
  },
  {
   "cell_type": "code",
   "execution_count": 21,
   "metadata": {},
   "outputs": [
    {
     "data": {
      "text/plain": [
       "20"
      ]
     },
     "execution_count": 21,
     "metadata": {},
     "output_type": "execute_result"
    }
   ],
   "source": [
    "len(hotels_urls)"
   ]
  },
  {
   "cell_type": "code",
   "execution_count": 22,
   "metadata": {},
   "outputs": [
    {
     "data": {
      "text/plain": [
       "['https://me.cleartrip.com/hotels/details/192017?c=200419|210419&r=2,0',\n",
       " 'https://me.cleartrip.com/hotels/details/292714?c=200419|210419&r=2,0',\n",
       " 'https://me.cleartrip.com/hotels/details/345087?c=200419|210419&r=2,0']"
      ]
     },
     "execution_count": 22,
     "metadata": {},
     "output_type": "execute_result"
    }
   ],
   "source": [
    "hotels_urls[:3]"
   ]
  },
  {
   "cell_type": "code",
   "execution_count": 23,
   "metadata": {},
   "outputs": [],
   "source": [
    "for page_num_href in page_num_hrefs:\n",
    "    res = requests.get(page_num_href)\n",
    "    res.raise_for_status()\n",
    "    soup = BeautifulSoup(res.text, 'lxml')\n",
    "    hotels_a_tag_list = soup.select('.hotels-name a')\n",
    "    hotels_urls += [(base_url + hotel_a_tag.get('href')) for hotel_a_tag in hotels_a_tag_list]"
   ]
  },
  {
   "cell_type": "code",
   "execution_count": 24,
   "metadata": {},
   "outputs": [
    {
     "data": {
      "text/plain": [
       "755"
      ]
     },
     "execution_count": 24,
     "metadata": {},
     "output_type": "execute_result"
    }
   ],
   "source": [
    "len(hotels_urls)"
   ]
  },
  {
   "cell_type": "code",
   "execution_count": 25,
   "metadata": {},
   "outputs": [
    {
     "data": {
      "text/plain": [
       "['https://me.cleartrip.com/hotels/details/192017?c=200419|210419&r=2,0',\n",
       " 'https://me.cleartrip.com/hotels/details/292714?c=200419|210419&r=2,0',\n",
       " 'https://me.cleartrip.com/hotels/details/345087?c=200419|210419&r=2,0',\n",
       " 'https://me.cleartrip.com/hotels/details/367313?c=200419|210419&r=2,0',\n",
       " 'https://me.cleartrip.com/hotels/details/367317?c=200419|210419&r=2,0',\n",
       " 'https://me.cleartrip.com/hotels/details/367353?c=200419|210419&r=2,0']"
      ]
     },
     "execution_count": 25,
     "metadata": {},
     "output_type": "execute_result"
    }
   ],
   "source": [
    "hotels_urls[:6]"
   ]
  },
  {
   "cell_type": "code",
   "execution_count": 46,
   "metadata": {},
   "outputs": [],
   "source": [
    "def get_dynamic_info(hotel_url):\n",
    "    browser.get(hotel_url)\n",
    "    browser.maximize_window()\n",
    "    browser.execute_script('window.scrollTo(0, document.body.scrollHeight)')\n",
    "    try:\n",
    "        wait_obj.until(EC.presence_of_element_located((By.CSS_SELECTOR, 'li.review span[rel=\"tTooltip\"]')))\n",
    "        rating_elem = browser.find_element_by_css_selector('li.review span[rel=\"tTooltip\"]')\n",
    "        ActionChains(browser).move_to_element(rating_elem).perform()\n",
    "        orig_title = rating_elem.get_attribute('original-title')\n",
    "        rating = float(re.findall('TripAdvisor traveller rating, (.+)/5', orig_title)[0])\n",
    "    except Exception as e:\n",
    "#         print('first:', e)\n",
    "#         print(traceback.format_exc())\n",
    "        rating = 'NA'\n",
    "\n",
    "    try:\n",
    "        wait_obj.until(EC.presence_of_element_located((By.CSS_SELECTOR, '.reviewLink')))\n",
    "        num_reviews_elem = browser.find_element_by_class_name('reviewLink')\n",
    "        num_reviews = float(re.findall('([0-9]+) reviews', num_reviews_elem.text)[0])\n",
    "    except Exception as e:\n",
    "#         print('second:', e)\n",
    "#         print(traceback.format_exc())\n",
    "        num_reviews = 'NA'\n",
    "\n",
    "    try:\n",
    "        wait_obj.until(EC.presence_of_element_located((By.CSS_SELECTOR, '#b-min-price')))\n",
    "        price_elem = browser.find_element_by_css_selector('#b-min-price')\n",
    "        price = price_elem.text\n",
    "    except Exception as e:\n",
    "#         print('third:', e)\n",
    "#         print(traceback.format_exc())\n",
    "        price = 'NA'\n",
    "        \n",
    "    hotel_info = {}\n",
    "    wait_obj.until(EC.presence_of_element_located((By.CSS_SELECTOR, \"a.shwMoreDesc\")))\n",
    "    more_info = browser.find_element_by_css_selector('a.shwMoreDesc')\n",
    "#     more_info.click()\n",
    "    ActionChains(browser).move_to_element(more_info).click(more_info).perform()\n",
    "    dynamic_info_area = browser.find_elements_by_css_selector('.amenitiesCategory div')[0]\n",
    "\n",
    "    try: \n",
    "        # for pages with property location, rooms, etc. headings\n",
    "        info = dynamic_info_area.find_elements_by_css_selector('p')[1:-1]\n",
    "        # exception occurs if these headings not found\n",
    "        property_location_heading = info[0].find_element_by_css_selector('b')\n",
    "        rooms_heading = info[1].find_element_by_css_selector('b')\n",
    "        amenities_heading = info[2].find_element_by_css_selector('b')\n",
    "        dining_heading = info[3].find_element_by_css_selector('b')\n",
    "        business_heading = info[4].find_element_by_css_selector('b')\n",
    "        \n",
    "        property_location = info[0].text.replace(property_location_heading.text, '').strip()\n",
    "#         print('waaaaaa')\n",
    "        rooms = info[1].text.replace(rooms_heading.text, '').strip()\n",
    "        amenities = info[2].text.replace(amenities_heading.text, '').strip()\n",
    "        dining = info[3].text.replace(dining_heading.text, '').strip()\n",
    "        business_other_amenities = info[4].text.replace(business_heading.text, '').strip()\n",
    "#         print('waaaaaa')\n",
    "        more_info = {\n",
    "            'property_location': property_location,\n",
    "            'rooms': rooms,\n",
    "            'amenities': amenities,\n",
    "            'dining': dining,\n",
    "            'business_other_amenities': business_other_amenities\n",
    "        }\n",
    "        \n",
    "    except Exception as e:\n",
    "#         print('fourth:', e)\n",
    "        # when headings are not present\n",
    "#         print(traceback.format_exc())\n",
    "        more_info = dynamic_info_area.text.strip()\n",
    "    \n",
    "    dynamic_info = {\n",
    "        'rating': rating,\n",
    "        'num_reviews': num_reviews,\n",
    "        'price': price,\n",
    "        'hotel_info': more_info\n",
    "        \n",
    "    }\n",
    "    \n",
    "    return dynamic_info"
   ]
  },
  {
   "cell_type": "code",
   "execution_count": 47,
   "metadata": {},
   "outputs": [
    {
     "data": {
      "text/plain": [
       "{'rating': 'NA',\n",
       " 'num_reviews': 1103.0,\n",
       " 'price': 'NA',\n",
       " 'hotel_info': 'Deluxe Class Modern Hotel. Beachfront All Suite property on Ocean Drive, in the world-class environment of South Beach in the exclusive neighborhood of \"Sofi\" (South of Fifth Street). Minutes from Coral Gables, Coconut Grove and Miami\\'s international business district on Brickell Avenue. Miami International Airport is 15 minutes away.\\n\\nOversized junior suites (350 sq. ft.) furnished with 1 King Bed, custom designed with European furnishings, with floor-to-ceiling windows revealing views of the city or ocean, and are equipped with kitchenette, luxurious oversized marble bathroom and state of the art amenities.\\n\\nUpscale Italian restaurant on site and numerous dining options within the surrounding area offering a variety of tastes.\\n\\nEuropean-style boutique hotel in two 10-story towers.\\n\\nIntimate and elegantly decorated lobby.\\n\\nOn the southern tip of Ocean Drive, this hotel takes center stage in South Beach\\'s hottest new landscape. An oasis of serenity and elegance in a very exclusive beach setting. (03/08 LM)'}"
      ]
     },
     "execution_count": 47,
     "metadata": {},
     "output_type": "execute_result"
    }
   ],
   "source": [
    "get_dynamic_info(hotels_urls[0])"
   ]
  },
  {
   "cell_type": "code",
   "execution_count": 28,
   "metadata": {},
   "outputs": [
    {
     "data": {
      "text/plain": [
       "'https://me.cleartrip.com/hotels/details/345087?c=200419|210419&r=2,0'"
      ]
     },
     "execution_count": 28,
     "metadata": {},
     "output_type": "execute_result"
    }
   ],
   "source": [
    "hotels_urls[2]"
   ]
  },
  {
   "cell_type": "code",
   "execution_count": null,
   "metadata": {},
   "outputs": [],
   "source": [
    "all_hotels = []\n",
    "logfile = open('log', 'w')\n",
    "for hotel_url in hotels_urls:\n",
    "#     with open('log', 'a') as logfile:\n",
    "#         logfile.write(hotel_url+'\\n')\n",
    "    \n",
    "    logfile.write(hotel_url + '\\n')\n",
    "    \n",
    "    res = requests.get(hotel_url)\n",
    "    soup = BeautifulSoup(res.text, 'lxml')\n",
    "    \n",
    "    dynamic_info = get_dynamic_info(hotel_url)\n",
    "#     print(dynamic_info)\n",
    "    \n",
    "    hotel_info = {}\n",
    "    \n",
    "    hotel_name = soup.select('h1')[0].getText().strip()\n",
    "    hotel_address = soup.select('h1 small')[0].getText().strip()\n",
    "    \n",
    "    amenities_cats_except_first = soup.select('div.amenitiesCategory')[1:]\n",
    "    \n",
    "    quick_facts_ul = soup.select('.clearFix.hotelStats')[0]\n",
    "    quick_facts_li = quick_facts_ul.find_all('li')\n",
    "    \n",
    "    for quick_fact in quick_facts_li:\n",
    "        heading = quick_facts_li[0].find('small').text.strip()\n",
    "        hotel_info[heading] = quick_facts_li[0].find('span').text.strip()\n",
    "    \n",
    "    # making dictionary from information gathered till now\n",
    "    \n",
    "    hotel_info = {\n",
    "        'hotel_name': hotel_name,\n",
    "        'hotel_address': hotel_address,\n",
    "    }\n",
    "    \n",
    "    hotel_info = dict(list(hotel_info.items()) + list(dynamic_info.items()))\n",
    "    \n",
    "    # scraping other information\n",
    "    amenities_cats_except_second = amenities_cats_except_first[1:]\n",
    "    \n",
    "    for amenities_cat in amenities_cats_except_second:\n",
    "        heading = amenities_cat.find('strong').text\n",
    "        hotel_info[heading] = amenities_cat.find('ul').text.strip().split('\\n')\n",
    "        \n",
    "    all_hotels += hotel_info"
   ]
  },
  {
   "cell_type": "code",
   "execution_count": null,
   "metadata": {},
   "outputs": [],
   "source": [
    "print(all_hotels)"
   ]
  }
 ],
 "metadata": {
  "kernelspec": {
   "display_name": "Python 3",
   "language": "python",
   "name": "python3"
  },
  "language_info": {
   "codemirror_mode": {
    "name": "ipython",
    "version": 3
   },
   "file_extension": ".py",
   "mimetype": "text/x-python",
   "name": "python",
   "nbconvert_exporter": "python",
   "pygments_lexer": "ipython3",
   "version": "3.6.5"
  },
  "varInspector": {
   "cols": {
    "lenName": 16,
    "lenType": 16,
    "lenVar": 40
   },
   "kernels_config": {
    "python": {
     "delete_cmd_postfix": "",
     "delete_cmd_prefix": "del ",
     "library": "var_list.py",
     "varRefreshCmd": "print(var_dic_list())"
    },
    "r": {
     "delete_cmd_postfix": ") ",
     "delete_cmd_prefix": "rm(",
     "library": "var_list.r",
     "varRefreshCmd": "cat(var_dic_list()) "
    }
   },
   "types_to_exclude": [
    "module",
    "function",
    "builtin_function_or_method",
    "instance",
    "_Feature"
   ],
   "window_display": false
  }
 },
 "nbformat": 4,
 "nbformat_minor": 2
}
